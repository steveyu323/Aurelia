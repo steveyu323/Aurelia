{
 "cells": [
  {
   "cell_type": "code",
   "execution_count": 14,
   "metadata": {},
   "outputs": [],
   "source": [
    "from Bio import SeqIO\n",
    "import pandas as pd\n",
    "\n",
    "with open('./genome_raw/Aurelia.V.1.1.transcripts.fasta') as fasta_file:  # Will close handle cleanly\n",
    "    identifiers = []\n",
    "    lengths = []\n",
    "    seqs = []\n",
    "    for seq_record in SeqIO.parse(fasta_file, 'fasta'):  # (generator)\n",
    "        identifiers.append(seq_record.id)\n",
    "        lengths.append(len(seq_record.seq))\n",
    "        seqs.append(str(seq_record.seq))"
   ]
  },
  {
   "cell_type": "code",
   "execution_count": 15,
   "metadata": {},
   "outputs": [],
   "source": [
    "df = pd.DataFrame([identifiers,seqs,lengths]).T\n",
    "df.columns = [\"id\",\"seq\",\"length\"]"
   ]
  },
  {
   "cell_type": "code",
   "execution_count": 17,
   "metadata": {},
   "outputs": [
    {
     "data": {
      "text/html": [
       "<div>\n",
       "<style scoped>\n",
       "    .dataframe tbody tr th:only-of-type {\n",
       "        vertical-align: middle;\n",
       "    }\n",
       "\n",
       "    .dataframe tbody tr th {\n",
       "        vertical-align: top;\n",
       "    }\n",
       "\n",
       "    .dataframe thead th {\n",
       "        text-align: right;\n",
       "    }\n",
       "</style>\n",
       "<table border=\"1\" class=\"dataframe\">\n",
       "  <thead>\n",
       "    <tr style=\"text-align: right;\">\n",
       "      <th></th>\n",
       "      <th>id</th>\n",
       "      <th>seq</th>\n",
       "      <th>length</th>\n",
       "    </tr>\n",
       "  </thead>\n",
       "  <tbody>\n",
       "    <tr>\n",
       "      <th>0</th>\n",
       "      <td>Seg1.1</td>\n",
       "      <td>ATGTGGGACGAAGTTAGACGATGCGAAATTTCGGAGGCGATTACAA...</td>\n",
       "      <td>363</td>\n",
       "    </tr>\n",
       "    <tr>\n",
       "      <th>1</th>\n",
       "      <td>Seg1.2</td>\n",
       "      <td>TTGGTCCTAACAGTTGCAACACCTCCGTTAAAAACAGACCCATTCT...</td>\n",
       "      <td>196</td>\n",
       "    </tr>\n",
       "    <tr>\n",
       "      <th>2</th>\n",
       "      <td>Seg1.3</td>\n",
       "      <td>GATGAATGATCTCCAAAACTCCTTCCTAACATCTCACCAAATTGCA...</td>\n",
       "      <td>313</td>\n",
       "    </tr>\n",
       "    <tr>\n",
       "      <th>3</th>\n",
       "      <td>Seg1.4</td>\n",
       "      <td>AGGCGTTCTGGATCATTTAATTCCATGGATACATCCTCCTCTGTAT...</td>\n",
       "      <td>2880</td>\n",
       "    </tr>\n",
       "    <tr>\n",
       "      <th>4</th>\n",
       "      <td>Seg1.5</td>\n",
       "      <td>AGGAGAGAAGACAACCTGAGGCAGTTTTATCGTTATTGTAAGCTCA...</td>\n",
       "      <td>1608</td>\n",
       "    </tr>\n",
       "  </tbody>\n",
       "</table>\n",
       "</div>"
      ],
      "text/plain": [
       "       id                                                seq length\n",
       "0  Seg1.1  ATGTGGGACGAAGTTAGACGATGCGAAATTTCGGAGGCGATTACAA...    363\n",
       "1  Seg1.2  TTGGTCCTAACAGTTGCAACACCTCCGTTAAAAACAGACCCATTCT...    196\n",
       "2  Seg1.3  GATGAATGATCTCCAAAACTCCTTCCTAACATCTCACCAAATTGCA...    313\n",
       "3  Seg1.4  AGGCGTTCTGGATCATTTAATTCCATGGATACATCCTCCTCTGTAT...   2880\n",
       "4  Seg1.5  AGGAGAGAAGACAACCTGAGGCAGTTTTATCGTTATTGTAAGCTCA...   1608"
      ]
     },
     "execution_count": 17,
     "metadata": {},
     "output_type": "execute_result"
    }
   ],
   "source": [
    "df.head()"
   ]
  },
  {
   "cell_type": "code",
   "execution_count": 29,
   "metadata": {},
   "outputs": [],
   "source": [
    "diff_segs = pd.read_csv(\"./diff_seg_name.csv\",header=0)"
   ]
  },
  {
   "cell_type": "code",
   "execution_count": 33,
   "metadata": {},
   "outputs": [],
   "source": [
    "df_filt = pd.merge(df,diff_segs,left_on=\"id\",right_on=\"x\")"
   ]
  },
  {
   "cell_type": "code",
   "execution_count": 36,
   "metadata": {},
   "outputs": [
    {
     "data": {
      "text/html": [
       "<div>\n",
       "<style scoped>\n",
       "    .dataframe tbody tr th:only-of-type {\n",
       "        vertical-align: middle;\n",
       "    }\n",
       "\n",
       "    .dataframe tbody tr th {\n",
       "        vertical-align: top;\n",
       "    }\n",
       "\n",
       "    .dataframe thead th {\n",
       "        text-align: right;\n",
       "    }\n",
       "</style>\n",
       "<table border=\"1\" class=\"dataframe\">\n",
       "  <thead>\n",
       "    <tr style=\"text-align: right;\">\n",
       "      <th></th>\n",
       "      <th>id</th>\n",
       "      <th>seq</th>\n",
       "    </tr>\n",
       "  </thead>\n",
       "  <tbody>\n",
       "    <tr>\n",
       "      <th>0</th>\n",
       "      <td>Seg1.9</td>\n",
       "      <td>TGGTATGAGATTGATGCTTTTGGACTACCAAATCAACTGCGGCAAA...</td>\n",
       "    </tr>\n",
       "    <tr>\n",
       "      <th>1</th>\n",
       "      <td>Seg10.1</td>\n",
       "      <td>TTTTTGGGACACCCTGTATTGTTATGTTACAACATCTGCTGCAGTA...</td>\n",
       "    </tr>\n",
       "    <tr>\n",
       "      <th>2</th>\n",
       "      <td>Seg1000.3</td>\n",
       "      <td>GCCTCACTCCTTTTGAATCGACATGATTTTCCTTGTAAATAAGACT...</td>\n",
       "    </tr>\n",
       "    <tr>\n",
       "      <th>3</th>\n",
       "      <td>Seg1000.6_Seg1000.7</td>\n",
       "      <td>AGTTTCTTATAAAAAAAATGAGTGTTTATGAAGTTTTACAAAAATC...</td>\n",
       "    </tr>\n",
       "    <tr>\n",
       "      <th>4</th>\n",
       "      <td>Seg1000.18</td>\n",
       "      <td>AGTTGAACGAAAGAAAAGTGCACAAAGAAAAATGTCTGGACGTGGA...</td>\n",
       "    </tr>\n",
       "    <tr>\n",
       "      <th>...</th>\n",
       "      <td>...</td>\n",
       "      <td>...</td>\n",
       "    </tr>\n",
       "    <tr>\n",
       "      <th>1925</th>\n",
       "      <td>Seg99.3</td>\n",
       "      <td>ATGTACCCCCAAGAAGAAGCAAACATTGTTATGTTAGGTGTCAAAG...</td>\n",
       "    </tr>\n",
       "    <tr>\n",
       "      <th>1926</th>\n",
       "      <td>Seg992.7</td>\n",
       "      <td>GGACAACGCCCGCACCATTCACAACAACGGCTGCAGGTCCACAACC...</td>\n",
       "    </tr>\n",
       "    <tr>\n",
       "      <th>1927</th>\n",
       "      <td>Seg994.5</td>\n",
       "      <td>CAGTCTAGTAATATAGGGCGTGTGCAATCATTCGGAATTAACTACG...</td>\n",
       "    </tr>\n",
       "    <tr>\n",
       "      <th>1928</th>\n",
       "      <td>Seg997.8</td>\n",
       "      <td>CCGCACCTAGGCTCGAAGATTATTTTGCTAAATAGCATAAACTATT...</td>\n",
       "    </tr>\n",
       "    <tr>\n",
       "      <th>1929</th>\n",
       "      <td>Seg999.7</td>\n",
       "      <td>GTTTCCTTTTGCTCCACCTTTCCCCGCTCCATGCGTGTTTGACGGG...</td>\n",
       "    </tr>\n",
       "  </tbody>\n",
       "</table>\n",
       "<p>1930 rows × 2 columns</p>\n",
       "</div>"
      ],
      "text/plain": [
       "                       id                                                seq\n",
       "0                  Seg1.9  TGGTATGAGATTGATGCTTTTGGACTACCAAATCAACTGCGGCAAA...\n",
       "1                 Seg10.1  TTTTTGGGACACCCTGTATTGTTATGTTACAACATCTGCTGCAGTA...\n",
       "2               Seg1000.3  GCCTCACTCCTTTTGAATCGACATGATTTTCCTTGTAAATAAGACT...\n",
       "3     Seg1000.6_Seg1000.7  AGTTTCTTATAAAAAAAATGAGTGTTTATGAAGTTTTACAAAAATC...\n",
       "4              Seg1000.18  AGTTGAACGAAAGAAAAGTGCACAAAGAAAAATGTCTGGACGTGGA...\n",
       "...                   ...                                                ...\n",
       "1925              Seg99.3  ATGTACCCCCAAGAAGAAGCAAACATTGTTATGTTAGGTGTCAAAG...\n",
       "1926             Seg992.7  GGACAACGCCCGCACCATTCACAACAACGGCTGCAGGTCCACAACC...\n",
       "1927             Seg994.5  CAGTCTAGTAATATAGGGCGTGTGCAATCATTCGGAATTAACTACG...\n",
       "1928             Seg997.8  CCGCACCTAGGCTCGAAGATTATTTTGCTAAATAGCATAAACTATT...\n",
       "1929             Seg999.7  GTTTCCTTTTGCTCCACCTTTCCCCGCTCCATGCGTGTTTGACGGG...\n",
       "\n",
       "[1930 rows x 2 columns]"
      ]
     },
     "execution_count": 36,
     "metadata": {},
     "output_type": "execute_result"
    }
   ],
   "source": [
    "df_filt.loc[:,[\"id\",\"seq\"]]"
   ]
  },
  {
   "cell_type": "code",
   "execution_count": 37,
   "metadata": {},
   "outputs": [
    {
     "data": {
      "text/plain": [
       "1930"
      ]
     },
     "execution_count": 37,
     "metadata": {},
     "output_type": "execute_result"
    }
   ],
   "source": [
    "df_filt.shape[0]"
   ]
  },
  {
   "cell_type": "code",
   "execution_count": 46,
   "metadata": {},
   "outputs": [],
   "source": [
    "from Bio.SeqRecord import SeqRecord\n",
    "from Bio.Seq import Seq\n",
    "file_out='./diff_seg.fasta'\n",
    "\n",
    "with open(file_out, 'w') as f_out:\n",
    "    for i in range(df_filt.shape[0]):\n",
    "        seq_record = SeqRecord(Seq(df_filt[\"seq\"].iloc[i]))\n",
    "        seq_record.id = df_filt[\"id\"].iloc[i]\n",
    "        seq_record.description = df_filt[\"id\"].iloc[i]\n",
    "        seq_record.name = df_filt[\"id\"].iloc[i]\n",
    "        # write new fasta file\n",
    "        r=SeqIO.write(seq_record, f_out, 'fasta')\n",
    "        if r!=1: \n",
    "            print('Error while writing sequence:  ' + seq_record.id)"
   ]
  },
  {
   "cell_type": "code",
   "execution_count": 45,
   "metadata": {},
   "outputs": [
    {
     "data": {
      "text/plain": [
       "SeqRecord(seq='TGGTATGAGATTGATGCTTTTGGACTACCAAATCAACTGCGGCAAAAGTTCGTTCAAAGTTCTATGGATGAAGAAACAGAGCAATTCTTAGCTTTGTGTGTCGAAAAGTCGGGATGGGTCTTTACTCAGTTCTTCCATTCTATTGTTCAAGTGTTCTTGGGTTTTATGGTTTCAATGACGACCATTAATGGGTTTCTTGAGCGAGGAAAGATGTTCGTATTTTCCAACGAGCAGTTCAAGCATTTATTGGAGATAGATGATTCATGCAGTAATAGAACACTGTTGGATCTTGGTGCTGGCGATGGTGCTGTAACACAACGCATGGCTGATCATTTCAAGAAAGTTTTCGTCACAGAAAGTTCATCAACTATGCGTATGAGGCTTGCACAAAAAGGATTTACGGTACTCAATATTGACGAATGGCAGAACTCGCACTATGACGTCATCAGTATGCTAAATCTTGTTGACAGAATAGAAAATCCATTACAGCTATTGAATGATGCACGATTATCATTAAATCGTGGTGGACTAGTGATCATTGCGATTGTTCTTCCATACAGTCCTGTAGTGGAAAAAGGTAGCAAATTCGTGCCACCAGAAGAAAAACTGCACATTTCTGGTAAAAGTGCCGAAGAGCAGATAAGAACATTTGTTATGGATGTATTAGAACCAGCTGGATTCGAAGTTCTGAAATTTACAAAACTTCCCTATCTTTGTGAAGGTGATTTATATGACGATTATTTTCTCCTCCATGATTACGTATTTGTGCTTAAATCAAGAATTGTGCTTGATTGATGATTATTAAATGATGATATCATGAAGAAATGTTCATGTTACTGTTGCAAGATGTTTGCAAGTCCGTAGTAAGATCTGTTACCTTCACTTTGGGACAACCGGTGCATGGTTGTAAGGCTTAGCCTCGCATTTTGTGGTCTGTCCATTGACTGTTGAAACTATTGAATTAACAGATTAACAGTGTTGAGTTTAGTTGACATACAGTAAAAAACCAAATTTGAGAACCATCACATTTTTTGCTTGAAATATTTCCACATTTATATTAGCCTTATTTGCTTCAAATGACAGGTAATTCGTTCAAATCGATGAATAAATCAAGGTTG', id='Seg1.9', name='Seg1.9', description='Seg1.9', dbxrefs=[])"
      ]
     },
     "execution_count": 45,
     "metadata": {},
     "output_type": "execute_result"
    }
   ],
   "source": []
  }
 ],
 "metadata": {
  "kernelspec": {
   "display_name": "Python 3",
   "language": "python",
   "name": "python3"
  },
  "language_info": {
   "codemirror_mode": {
    "name": "ipython",
    "version": 3
   },
   "file_extension": ".py",
   "mimetype": "text/x-python",
   "name": "python",
   "nbconvert_exporter": "python",
   "pygments_lexer": "ipython3",
   "version": "3.8.5"
  }
 },
 "nbformat": 4,
 "nbformat_minor": 4
}
